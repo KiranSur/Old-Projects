{
  "nbformat": 4,
  "nbformat_minor": 0,
  "metadata": {
    "colab": {
      "name": "Basketball Position Classifier.ipynb",
      "provenance": [],
      "collapsed_sections": [],
      "authorship_tag": "ABX9TyP7DozTdKBnFRe+gsDo7JCU"
    },
    "kernelspec": {
      "name": "python3",
      "display_name": "Python 3"
    },
    "language_info": {
      "name": "python"
    },
    "accelerator": "GPU"
  },
  "cells": [
    {
      "cell_type": "markdown",
      "metadata": {
        "id": "L_lw8VwKawBc"
      },
      "source": [
        "This project will train a neural network to classify what position (G, F, C) an NBA player likely is based on their height, weight, and recent averages (points, rebounds, assists). Data is retreieved from the balldontlie API."
      ]
    },
    {
      "cell_type": "code",
      "metadata": {
        "colab": {
          "base_uri": "https://localhost:8080/"
        },
        "id": "ehaxQcRtbBvH",
        "outputId": "98d9c990-ee17-4f2e-b88e-0faaee9f8bc0"
      },
      "source": [
        "import numpy as np\n",
        "import operator\n",
        "import requests\n",
        "import json\n",
        "np.random.seed(3030)\n",
        "\n",
        "#Get player id's and other identifying data\n",
        "#Wait 20-30 seconds between consecutive uses of this cell and the cell below (API restrictions)\n",
        "players = {}\n",
        "players_api = requests.get('https://www.balldontlie.io/api/v1/players', params={'per_page': 100})\n",
        "players_data = json.loads(players_api.text)\n",
        "player_pages = players_data['meta']['total_pages']\n",
        "\n",
        "for i in range(player_pages + 1):\n",
        "  players_api = requests.get('https://www.balldontlie.io/api/v1/players', params={'page': i, 'per_page': 100})\n",
        "  players_data = json.loads(players_api.text)\n",
        "  for player in players_data['data']:\n",
        "    if player['position'] and player['height_feet'] and player['weight_pounds']:\n",
        "      players[player['id']] = [12 * player['height_feet'] + player['height_inches'], player['weight_pounds'], player['position']]\n",
        "  \n",
        "print(len(players))"
      ],
      "execution_count": null,
      "outputs": [
        {
          "output_type": "stream",
          "text": [
            "458\n"
          ],
          "name": "stdout"
        }
      ]
    },
    {
      "cell_type": "code",
      "metadata": {
        "colab": {
          "base_uri": "https://localhost:8080/"
        },
        "id": "PFFUhJX9rBUI",
        "outputId": "b3952d2c-1d7f-4c1c-89ae-a5be9830b088"
      },
      "source": [
        "#Get stats for all players (going back years for retired players)\n",
        "#Wait 20-30 seconds between consecutive uses of this cell and the cell above (API restrictions)\n",
        "stats = {}\n",
        "for year in list(range(2000, 2021))[::-1]:\n",
        "  stats_request_string = 'https://www.balldontlie.io/api/v1/season_averages?season=' + str(year)\n",
        "  for id in players:\n",
        "    stats_request_string += '&player_ids[]=' + str(id)\n",
        "\n",
        "  stats_api = requests.get(stats_request_string)\n",
        "  raw_stats_data = json.loads(stats_api.text)['data']\n",
        "\n",
        "  for val in raw_stats_data:\n",
        "    if val['player_id'] not in stats:\n",
        "      stats[val['player_id']] = [val['pts'], val['reb'], val['ast']]\n",
        "print(len(stats))"
      ],
      "execution_count": null,
      "outputs": [
        {
          "output_type": "stream",
          "text": [
            "457\n"
          ],
          "name": "stdout"
        }
      ]
    },
    {
      "cell_type": "code",
      "metadata": {
        "colab": {
          "base_uri": "https://localhost:8080/"
        },
        "id": "ZPTQpcASVIup",
        "outputId": "324bc2c7-47f4-4bed-8b0e-b4e203ad7fd7"
      },
      "source": [
        "from sklearn import preprocessing\n",
        "\n",
        "#Combine players + stats into one dict {id: [height in inches, weight, position, points, rebounds, assists]}\n",
        "#Then, separate the data into lists of guards, forwards, and centers\n",
        "raw_data = {}\n",
        "for player_id in stats:\n",
        "  raw_data[player_id] = players[player_id] + stats[player_id]\n",
        "\n",
        "#guards, forwards, and centers\n",
        "g, f, c = [], [], []\n",
        "for id in raw_data:\n",
        "  pos = raw_data[id].pop(2)\n",
        "  if pos == 'G':\n",
        "    g.append(raw_data[id])\n",
        "  elif 'F' in pos and raw_data[id][0] <= 81:\n",
        "    f.append(raw_data[id])\n",
        "  else:\n",
        "    c.append(raw_data[id])\n",
        "\n",
        "#Normalize the data\n",
        "total = g + f + c\n",
        "scaler = preprocessing.StandardScaler().fit(total)\n",
        "g = np.array(scaler.transform(g))\n",
        "f = np.array(scaler.transform(f))\n",
        "c = np.array(scaler.transform(c))\n",
        "\n",
        "def clean_data(player):\n",
        "  return scaler.transform(np.array(player).reshape(1, -1))\n",
        "\n",
        "print(len(g), g[:10])\n",
        "print(len(f), f[:10])\n",
        "print(len(c), c[:10])"
      ],
      "execution_count": null,
      "outputs": [
        {
          "output_type": "stream",
          "text": [
            "177 [[-1.53480940e+00 -1.20587317e+00 -1.19740409e+00 -1.23990767e+00\n",
            "  -9.22325646e-01]\n",
            " [-6.27425318e-01 -8.67707006e-01  2.23978644e-01 -1.42069794e-01\n",
            "   5.94234824e-02]\n",
            " [-1.23234804e+00 -7.83165465e-01 -9.18588874e-01 -9.25115447e-01\n",
            "  -5.53520418e-01]\n",
            " [-2.13973212e+00 -1.50176857e+00 -1.69811922e-01 -7.12630697e-01\n",
            "   6.25617424e-01]\n",
            " [-3.24963957e-01 -1.20587317e+00  8.76463743e-01  5.50473095e-01\n",
            "   1.98656066e+00]\n",
            " [-3.24963957e-01 -1.20587317e+00  6.06271676e-01  2.59290289e-01\n",
            "   6.77561823e-01]\n",
            " [-6.27425318e-01 -7.40894694e-01 -2.17239253e-01 -3.18925162e-02\n",
            "  -1.84715190e-01]\n",
            " [-6.27425318e-01 -4.87270068e-01  3.18603104e+00  5.22928776e-01\n",
            "   1.26972796e+00]\n",
            " [-6.27425318e-01 -9.94519319e-01  9.48323335e-01 -4.13293946e-04\n",
            "  -4.96597541e-02]\n",
            " [-1.83727076e+00 -1.41722703e+00 -1.39630893e-01 -6.33717384e-02\n",
            "   6.46179222e-02]]\n",
            "157 [[ 0.58242013  0.06224995 -0.89990538 -0.38996867 -0.65221478]\n",
            " [ 0.58242013  0.48495766  0.56028154  0.92822376  0.88014498]\n",
            " [ 0.27995877  0.5694992   1.0604243   0.837721    0.13734008]\n",
            " [ 0.27995877 -0.1491039   0.13199837  0.5583429  -0.04965975]\n",
            " [-0.0225026   0.10452072  0.35332591 -0.10665567 -0.33015951]\n",
            " [ 0.27995877  0.27360381  1.09347971  1.28236501  0.80222838]\n",
            " [ 0.58242013  0.44268689 -0.98182532 -0.92905035 -0.87038125]\n",
            " [ 0.27995877 -0.78316546 -0.07783164  0.49931936  0.13214564]\n",
            " [ 0.58242013  0.23133304 -1.02350388 -0.47260163 -0.66779809]\n",
            " [-0.32496396 -0.36045776 -0.57078845 -0.44505731 -0.14315967]]\n",
            "123 [[ 1.48980421  1.96443464 -0.13388213  2.15591343 -0.00810424]\n",
            " [ 0.88488149  1.54172694  1.34929986  2.03393144  1.68008871]\n",
            " [ 1.18734285  1.75308079  0.72699579  0.45603543 -0.02368755]\n",
            " [ 1.18734285  0.78085306  0.6192064   2.61629705 -0.12757635]\n",
            " [ 1.18734285  0.99220691  2.77643136  3.00978733  2.05408838]\n",
            " [ 0.88488149 -0.78316546 -1.16434868 -1.09825117 -0.98465892]\n",
            " [ 1.79226557  1.33037308  0.85778025  2.80910729 -0.25743735]\n",
            " [ 1.18734285  0.65404075  0.795981    1.58141762 -0.47040938]\n",
            " [ 1.48980421  0.10452072 -0.4198833   0.25142048 -0.72493693]\n",
            " [ 0.88488149  1.75308079 -0.5434818   0.22781107 -0.64702034]]\n"
          ],
          "name": "stdout"
        }
      ]
    },
    {
      "cell_type": "code",
      "metadata": {
        "colab": {
          "base_uri": "https://localhost:8080/"
        },
        "id": "BB-VQ7wyvNcs",
        "outputId": "1a126e98-cf5a-4a10-f175-8f754f56f30d"
      },
      "source": [
        "#Creating the finalized training data + labels \n",
        "data = []\n",
        "for guard in g:\n",
        "  data.append((guard, 0))\n",
        "for forward in f:\n",
        "  data.append((forward, 1))\n",
        "for center in c:\n",
        "  data.append((center, 2))\n",
        "\n",
        "np.random.shuffle(data)\n",
        "data[:10]"
      ],
      "execution_count": null,
      "outputs": [
        {
          "output_type": "execute_result",
          "data": {
            "text/plain": [
              "[(array([ 0.88488149,  0.40041612, -0.79642757, -0.61032322, -0.86518681]), 2),\n",
              " (array([-0.0225026 ,  0.48495766, -0.20574172,  1.46730544,  3.60722589]), 1),\n",
              " (array([ 0.88488149,  0.90766537, -1.16434868, -1.11792568, -0.92232565]), 2),\n",
              " (array([ 1.18734285,  0.78085306,  0.6192064 ,  2.61629705, -0.12757635]), 2),\n",
              " (array([ 0.27995877,  0.90766537, -1.19021813, -1.21236335, -1.00024224]), 1),\n",
              " (array([-0.32496396,  1.11901923, -0.70588448,  0.15698282, -0.41327054]), 1),\n",
              " (array([-0.92988668, -0.1491039 ,  1.1653393 , -0.54342988,  0.27239552]), 0),\n",
              " (array([ 0.27995877,  1.11901923, -1.03068984, -1.03135782, -0.89635345]), 1),\n",
              " (array([ 1.18734285,  0.06224995, -0.4917429 ,  1.18399244, -0.62624258]), 2),\n",
              " (array([0.58242013, 0.48495766, 1.79626652, 1.46730544, 1.28011684]), 1)]"
            ]
          },
          "metadata": {
            "tags": []
          },
          "execution_count": 97
        }
      ]
    },
    {
      "cell_type": "code",
      "metadata": {
        "id": "YeOlDqZjvaDk"
      },
      "source": [
        "import torch\n",
        "import torch.nn as nn\n",
        "import tqdm"
      ],
      "execution_count": null,
      "outputs": []
    },
    {
      "cell_type": "code",
      "metadata": {
        "id": "n5r6Gs5Eye_H"
      },
      "source": [
        "model = nn.Sequential(\n",
        "  nn.Linear(5, 4),\n",
        "  nn.ReLU(),\n",
        "  nn.Linear(4, 4),\n",
        "  nn.ReLU(),\n",
        "  nn.Linear(4, 3),\n",
        "  nn.Softmax(-1)\n",
        ").cuda()\n",
        "optimizer = torch.optim.SGD(model.parameters(), lr=1e-3)"
      ],
      "execution_count": null,
      "outputs": []
    },
    {
      "cell_type": "code",
      "metadata": {
        "colab": {
          "base_uri": "https://localhost:8080/"
        },
        "id": "uxTkMbIJzE45",
        "outputId": "959629d5-1287-4a3a-dbcb-0ca5e8a22524"
      },
      "source": [
        "for epoch in range(50):\n",
        "  losses = []\n",
        "  for player, label in tqdm.tqdm(data):\n",
        "    # Process data\n",
        "    player = torch.tensor(player).float().reshape((1, -1)).cuda()\n",
        "    label = torch.tensor(label).long().reshape((1,)).cuda()\n",
        "    \n",
        "    # Get our guess\n",
        "    guess = model(player)\n",
        "\n",
        "    # Get the loss\n",
        "    loss = nn.functional.nll_loss(guess.log(), label)\n",
        "\n",
        "    # Optimize the model\n",
        "    optimizer.zero_grad()\n",
        "    loss.backward()\n",
        "    optimizer.step()\n",
        "    losses.append(loss.item())\n",
        "  print(\"LOSS\", np.mean(losses))"
      ],
      "execution_count": null,
      "outputs": [
        {
          "output_type": "stream",
          "text": [
            "100%|██████████| 457/457 [00:00<00:00, 919.79it/s]\n"
          ],
          "name": "stderr"
        },
        {
          "output_type": "stream",
          "text": [
            "LOSS 0.4649840674528147\n"
          ],
          "name": "stdout"
        },
        {
          "output_type": "stream",
          "text": [
            "100%|██████████| 457/457 [00:00<00:00, 911.42it/s]\n"
          ],
          "name": "stderr"
        },
        {
          "output_type": "stream",
          "text": [
            "LOSS 0.4597144982567632\n"
          ],
          "name": "stdout"
        },
        {
          "output_type": "stream",
          "text": [
            "100%|██████████| 457/457 [00:00<00:00, 917.73it/s]\n"
          ],
          "name": "stderr"
        },
        {
          "output_type": "stream",
          "text": [
            "LOSS 0.4545910803232285\n"
          ],
          "name": "stdout"
        },
        {
          "output_type": "stream",
          "text": [
            "100%|██████████| 457/457 [00:00<00:00, 919.72it/s]\n"
          ],
          "name": "stderr"
        },
        {
          "output_type": "stream",
          "text": [
            "LOSS 0.44962665707859284\n"
          ],
          "name": "stdout"
        },
        {
          "output_type": "stream",
          "text": [
            "100%|██████████| 457/457 [00:00<00:00, 929.03it/s]\n"
          ],
          "name": "stderr"
        },
        {
          "output_type": "stream",
          "text": [
            "LOSS 0.44478506603047935\n"
          ],
          "name": "stdout"
        },
        {
          "output_type": "stream",
          "text": [
            "100%|██████████| 457/457 [00:00<00:00, 922.36it/s]\n"
          ],
          "name": "stderr"
        },
        {
          "output_type": "stream",
          "text": [
            "LOSS 0.4400844206255035\n"
          ],
          "name": "stdout"
        },
        {
          "output_type": "stream",
          "text": [
            "100%|██████████| 457/457 [00:00<00:00, 921.05it/s]\n"
          ],
          "name": "stderr"
        },
        {
          "output_type": "stream",
          "text": [
            "LOSS 0.43553105274651455\n"
          ],
          "name": "stdout"
        },
        {
          "output_type": "stream",
          "text": [
            "100%|██████████| 457/457 [00:00<00:00, 932.93it/s]\n"
          ],
          "name": "stderr"
        },
        {
          "output_type": "stream",
          "text": [
            "LOSS 0.4310642577273694\n"
          ],
          "name": "stdout"
        },
        {
          "output_type": "stream",
          "text": [
            "100%|██████████| 457/457 [00:00<00:00, 1013.55it/s]\n"
          ],
          "name": "stderr"
        },
        {
          "output_type": "stream",
          "text": [
            "LOSS 0.4266722795657439\n"
          ],
          "name": "stdout"
        },
        {
          "output_type": "stream",
          "text": [
            "100%|██████████| 457/457 [00:00<00:00, 979.94it/s]\n"
          ],
          "name": "stderr"
        },
        {
          "output_type": "stream",
          "text": [
            "LOSS 0.4223804091576169\n"
          ],
          "name": "stdout"
        },
        {
          "output_type": "stream",
          "text": [
            "100%|██████████| 457/457 [00:00<00:00, 1000.06it/s]\n"
          ],
          "name": "stderr"
        },
        {
          "output_type": "stream",
          "text": [
            "LOSS 0.41817741473745434\n"
          ],
          "name": "stdout"
        },
        {
          "output_type": "stream",
          "text": [
            "100%|██████████| 457/457 [00:00<00:00, 992.77it/s]\n"
          ],
          "name": "stderr"
        },
        {
          "output_type": "stream",
          "text": [
            "LOSS 0.41411026069971874\n"
          ],
          "name": "stdout"
        },
        {
          "output_type": "stream",
          "text": [
            "100%|██████████| 457/457 [00:00<00:00, 982.83it/s]\n"
          ],
          "name": "stderr"
        },
        {
          "output_type": "stream",
          "text": [
            "LOSS 0.4101486427111335\n"
          ],
          "name": "stdout"
        },
        {
          "output_type": "stream",
          "text": [
            "100%|██████████| 457/457 [00:00<00:00, 962.37it/s]\n"
          ],
          "name": "stderr"
        },
        {
          "output_type": "stream",
          "text": [
            "LOSS 0.4062665420155402\n"
          ],
          "name": "stdout"
        },
        {
          "output_type": "stream",
          "text": [
            "100%|██████████| 457/457 [00:00<00:00, 991.67it/s]\n"
          ],
          "name": "stderr"
        },
        {
          "output_type": "stream",
          "text": [
            "LOSS 0.40247101196815427\n"
          ],
          "name": "stdout"
        },
        {
          "output_type": "stream",
          "text": [
            "100%|██████████| 457/457 [00:00<00:00, 993.03it/s]\n"
          ],
          "name": "stderr"
        },
        {
          "output_type": "stream",
          "text": [
            "LOSS 0.3987650486805702\n"
          ],
          "name": "stdout"
        },
        {
          "output_type": "stream",
          "text": [
            "100%|██████████| 457/457 [00:00<00:00, 966.45it/s]\n"
          ],
          "name": "stderr"
        },
        {
          "output_type": "stream",
          "text": [
            "LOSS 0.3951844659351685\n"
          ],
          "name": "stdout"
        },
        {
          "output_type": "stream",
          "text": [
            "100%|██████████| 457/457 [00:00<00:00, 943.43it/s]\n"
          ],
          "name": "stderr"
        },
        {
          "output_type": "stream",
          "text": [
            "LOSS 0.39169108929546625\n"
          ],
          "name": "stdout"
        },
        {
          "output_type": "stream",
          "text": [
            "100%|██████████| 457/457 [00:00<00:00, 980.80it/s]\n"
          ],
          "name": "stderr"
        },
        {
          "output_type": "stream",
          "text": [
            "LOSS 0.38832821650277716\n"
          ],
          "name": "stdout"
        },
        {
          "output_type": "stream",
          "text": [
            "100%|██████████| 457/457 [00:00<00:00, 976.93it/s]\n"
          ],
          "name": "stderr"
        },
        {
          "output_type": "stream",
          "text": [
            "LOSS 0.38502751804834245\n"
          ],
          "name": "stdout"
        },
        {
          "output_type": "stream",
          "text": [
            "100%|██████████| 457/457 [00:00<00:00, 985.82it/s] \n"
          ],
          "name": "stderr"
        },
        {
          "output_type": "stream",
          "text": [
            "LOSS 0.3818232852578901\n"
          ],
          "name": "stdout"
        },
        {
          "output_type": "stream",
          "text": [
            "100%|██████████| 457/457 [00:00<00:00, 993.94it/s]\n"
          ],
          "name": "stderr"
        },
        {
          "output_type": "stream",
          "text": [
            "LOSS 0.3786530535621263\n"
          ],
          "name": "stdout"
        },
        {
          "output_type": "stream",
          "text": [
            "100%|██████████| 457/457 [00:00<00:00, 966.66it/s]\n"
          ],
          "name": "stderr"
        },
        {
          "output_type": "stream",
          "text": [
            "LOSS 0.3755646913594625\n"
          ],
          "name": "stdout"
        },
        {
          "output_type": "stream",
          "text": [
            "100%|██████████| 457/457 [00:00<00:00, 954.94it/s]\n"
          ],
          "name": "stderr"
        },
        {
          "output_type": "stream",
          "text": [
            "LOSS 0.3725148079617772\n"
          ],
          "name": "stdout"
        },
        {
          "output_type": "stream",
          "text": [
            "100%|██████████| 457/457 [00:00<00:00, 970.31it/s]\n"
          ],
          "name": "stderr"
        },
        {
          "output_type": "stream",
          "text": [
            "LOSS 0.3695274271171324\n"
          ],
          "name": "stdout"
        },
        {
          "output_type": "stream",
          "text": [
            "100%|██████████| 457/457 [00:00<00:00, 985.46it/s]\n"
          ],
          "name": "stderr"
        },
        {
          "output_type": "stream",
          "text": [
            "LOSS 0.3666855874682799\n"
          ],
          "name": "stdout"
        },
        {
          "output_type": "stream",
          "text": [
            "100%|██████████| 457/457 [00:00<00:00, 999.91it/s]\n"
          ],
          "name": "stderr"
        },
        {
          "output_type": "stream",
          "text": [
            "LOSS 0.3639161141958145\n"
          ],
          "name": "stdout"
        },
        {
          "output_type": "stream",
          "text": [
            "100%|██████████| 457/457 [00:00<00:00, 964.33it/s]\n"
          ],
          "name": "stderr"
        },
        {
          "output_type": "stream",
          "text": [
            "LOSS 0.36119303443172085\n"
          ],
          "name": "stdout"
        },
        {
          "output_type": "stream",
          "text": [
            "100%|██████████| 457/457 [00:00<00:00, 993.78it/s]\n"
          ],
          "name": "stderr"
        },
        {
          "output_type": "stream",
          "text": [
            "LOSS 0.3585252722115684\n"
          ],
          "name": "stdout"
        },
        {
          "output_type": "stream",
          "text": [
            "100%|██████████| 457/457 [00:00<00:00, 977.19it/s]\n"
          ],
          "name": "stderr"
        },
        {
          "output_type": "stream",
          "text": [
            "LOSS 0.3559563787525654\n"
          ],
          "name": "stdout"
        },
        {
          "output_type": "stream",
          "text": [
            "100%|██████████| 457/457 [00:00<00:00, 981.11it/s]\n"
          ],
          "name": "stderr"
        },
        {
          "output_type": "stream",
          "text": [
            "LOSS 0.3534404964626184\n"
          ],
          "name": "stdout"
        },
        {
          "output_type": "stream",
          "text": [
            "100%|██████████| 457/457 [00:00<00:00, 959.39it/s]\n"
          ],
          "name": "stderr"
        },
        {
          "output_type": "stream",
          "text": [
            "LOSS 0.3509993078402362\n"
          ],
          "name": "stdout"
        },
        {
          "output_type": "stream",
          "text": [
            "100%|██████████| 457/457 [00:00<00:00, 956.52it/s]\n"
          ],
          "name": "stderr"
        },
        {
          "output_type": "stream",
          "text": [
            "LOSS 0.3485842694953049\n"
          ],
          "name": "stdout"
        },
        {
          "output_type": "stream",
          "text": [
            "100%|██████████| 457/457 [00:00<00:00, 984.03it/s]\n"
          ],
          "name": "stderr"
        },
        {
          "output_type": "stream",
          "text": [
            "LOSS 0.3461964181682943\n"
          ],
          "name": "stdout"
        },
        {
          "output_type": "stream",
          "text": [
            "100%|██████████| 457/457 [00:00<00:00, 944.66it/s]\n"
          ],
          "name": "stderr"
        },
        {
          "output_type": "stream",
          "text": [
            "LOSS 0.3438667359598734\n"
          ],
          "name": "stdout"
        },
        {
          "output_type": "stream",
          "text": [
            "100%|██████████| 457/457 [00:00<00:00, 967.26it/s]\n"
          ],
          "name": "stderr"
        },
        {
          "output_type": "stream",
          "text": [
            "LOSS 0.3415662490404099\n"
          ],
          "name": "stdout"
        },
        {
          "output_type": "stream",
          "text": [
            "100%|██████████| 457/457 [00:00<00:00, 972.79it/s]\n"
          ],
          "name": "stderr"
        },
        {
          "output_type": "stream",
          "text": [
            "LOSS 0.3393361417545338\n"
          ],
          "name": "stdout"
        },
        {
          "output_type": "stream",
          "text": [
            "100%|██████████| 457/457 [00:00<00:00, 921.02it/s]\n"
          ],
          "name": "stderr"
        },
        {
          "output_type": "stream",
          "text": [
            "LOSS 0.3371795304532263\n"
          ],
          "name": "stdout"
        },
        {
          "output_type": "stream",
          "text": [
            "100%|██████████| 457/457 [00:00<00:00, 960.79it/s]\n"
          ],
          "name": "stderr"
        },
        {
          "output_type": "stream",
          "text": [
            "LOSS 0.33506764362477526\n"
          ],
          "name": "stdout"
        },
        {
          "output_type": "stream",
          "text": [
            "100%|██████████| 457/457 [00:00<00:00, 977.85it/s]\n"
          ],
          "name": "stderr"
        },
        {
          "output_type": "stream",
          "text": [
            "LOSS 0.3329603581205805\n"
          ],
          "name": "stdout"
        },
        {
          "output_type": "stream",
          "text": [
            "100%|██████████| 457/457 [00:00<00:00, 970.85it/s]\n"
          ],
          "name": "stderr"
        },
        {
          "output_type": "stream",
          "text": [
            "LOSS 0.3308718550988627\n"
          ],
          "name": "stdout"
        },
        {
          "output_type": "stream",
          "text": [
            "100%|██████████| 457/457 [00:00<00:00, 951.20it/s]\n"
          ],
          "name": "stderr"
        },
        {
          "output_type": "stream",
          "text": [
            "LOSS 0.32882354316093143\n"
          ],
          "name": "stdout"
        },
        {
          "output_type": "stream",
          "text": [
            "100%|██████████| 457/457 [00:00<00:00, 967.72it/s]\n"
          ],
          "name": "stderr"
        },
        {
          "output_type": "stream",
          "text": [
            "LOSS 0.32675058029191334\n"
          ],
          "name": "stdout"
        },
        {
          "output_type": "stream",
          "text": [
            "100%|██████████| 457/457 [00:00<00:00, 980.88it/s]\n"
          ],
          "name": "stderr"
        },
        {
          "output_type": "stream",
          "text": [
            "LOSS 0.324738270555548\n"
          ],
          "name": "stdout"
        },
        {
          "output_type": "stream",
          "text": [
            "100%|██████████| 457/457 [00:00<00:00, 948.07it/s]\n"
          ],
          "name": "stderr"
        },
        {
          "output_type": "stream",
          "text": [
            "LOSS 0.3227654695506725\n"
          ],
          "name": "stdout"
        },
        {
          "output_type": "stream",
          "text": [
            "100%|██████████| 457/457 [00:00<00:00, 984.08it/s]\n"
          ],
          "name": "stderr"
        },
        {
          "output_type": "stream",
          "text": [
            "LOSS 0.32087013271410036\n"
          ],
          "name": "stdout"
        },
        {
          "output_type": "stream",
          "text": [
            "100%|██████████| 457/457 [00:00<00:00, 968.14it/s]\n"
          ],
          "name": "stderr"
        },
        {
          "output_type": "stream",
          "text": [
            "LOSS 0.31899106960953316\n"
          ],
          "name": "stdout"
        },
        {
          "output_type": "stream",
          "text": [
            "100%|██████████| 457/457 [00:00<00:00, 991.29it/s]\n"
          ],
          "name": "stderr"
        },
        {
          "output_type": "stream",
          "text": [
            "LOSS 0.31712389203872765\n"
          ],
          "name": "stdout"
        },
        {
          "output_type": "stream",
          "text": [
            "100%|██████████| 457/457 [00:00<00:00, 994.66it/s] \n"
          ],
          "name": "stderr"
        },
        {
          "output_type": "stream",
          "text": [
            "LOSS 0.3152801246356727\n"
          ],
          "name": "stdout"
        },
        {
          "output_type": "stream",
          "text": [
            "100%|██████████| 457/457 [00:00<00:00, 975.44it/s]"
          ],
          "name": "stderr"
        },
        {
          "output_type": "stream",
          "text": [
            "LOSS 0.3134081972497951\n"
          ],
          "name": "stdout"
        },
        {
          "output_type": "stream",
          "text": [
            "\n"
          ],
          "name": "stderr"
        }
      ]
    },
    {
      "cell_type": "code",
      "metadata": {
        "id": "ikxulXDV92pK"
      },
      "source": [
        "def predict_pos(model, player):\n",
        "  new_player = clean_data(player)\n",
        "  new_player = torch.tensor(new_player).float().reshape(1, -1).cuda()\n",
        "  result = model(new_player).cpu().detach().numpy().tolist()[0]\n",
        "  max_result = max(result)\n",
        "  if result[0] == max_result:\n",
        "    print(\"Your player is likely a guard!\")\n",
        "  elif result[1] == max_result:\n",
        "    print(\"Your player is likely a forward!\")\n",
        "  else:\n",
        "    print(\"Your player is likely a center!\")"
      ],
      "execution_count": null,
      "outputs": []
    },
    {
      "cell_type": "code",
      "metadata": {
        "colab": {
          "base_uri": "https://localhost:8080/"
        },
        "id": "UaxH6Jbc-cQe",
        "outputId": "98f95c82-1a6f-4d38-9a02-3beeda43ceb3"
      },
      "source": [
        "# [height (inches), weight (pounds), points, rebounds, assists]\n",
        "\n",
        "small_player = [72, 170, 15, 3, 10]\n",
        "fat_player = [82, 350, 18, 10, 10]\n",
        "kevin_durant = [82, 225, 30, 5, 5]\n",
        "\n",
        "predict_pos(model, kevin_durant)"
      ],
      "execution_count": null,
      "outputs": [
        {
          "output_type": "stream",
          "text": [
            "Your player is likely a forward!\n"
          ],
          "name": "stdout"
        }
      ]
    }
  ]
}